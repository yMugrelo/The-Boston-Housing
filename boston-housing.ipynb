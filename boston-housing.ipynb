{
  "nbformat": 4,
  "nbformat_minor": 0,
  "metadata": {
    "colab": {
      "provenance": [],
      "toc_visible": true,
      "authorship_tag": "ABX9TyM4NpPhYDrbXql73+pLG/Pb",
      "include_colab_link": true
    },
    "kernelspec": {
      "name": "python3",
      "display_name": "Python 3"
    },
    "language_info": {
      "name": "python"
    }
  },
  "cells": [
    {
      "cell_type": "markdown",
      "metadata": {
        "id": "view-in-github",
        "colab_type": "text"
      },
      "source": [
        "<a href=\"https://colab.research.google.com/github/yMugrelo/The-Boston-Housing/blob/main/boston-housing.ipynb\" target=\"_parent\"><img src=\"https://colab.research.google.com/assets/colab-badge.svg\" alt=\"Open In Colab\"/></a>"
      ]
    },
    {
      "cell_type": "code",
      "execution_count": null,
      "metadata": {
        "id": "62vdAThuK46j"
      },
      "outputs": [],
      "source": [
        "import pandas as pd\n",
        "url = \"/c/Users/User/The-Boston-Housing\""
      ]
    },
    {
      "cell_type": "code",
      "source": [],
      "metadata": {
        "id": "6eVDMqbgK-Zg"
      },
      "execution_count": null,
      "outputs": []
    }
  ]
}