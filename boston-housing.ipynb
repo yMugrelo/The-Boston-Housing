{
  "nbformat": 4,
  "nbformat_minor": 0,
  "metadata": {
    "colab": {
      "provenance": [],
      "authorship_tag": "ABX9TyPZ/0h8mHmamI4MW3h+HNQ4",
      "include_colab_link": true
    },
    "kernelspec": {
      "name": "python3",
      "display_name": "Python 3"
    },
    "language_info": {
      "name": "python"
    }
  },
  "cells": [
    {
      "cell_type": "markdown",
      "metadata": {
        "id": "view-in-github",
        "colab_type": "text"
      },
      "source": [
        "<a href=\"https://colab.research.google.com/github/yMugrelo/The-Boston-Housing/blob/main/boston-housing.ipynb\" target=\"_parent\"><img src=\"https://colab.research.google.com/assets/colab-badge.svg\" alt=\"Open In Colab\"/></a>"
      ]
    },
    {
      "cell_type": "code",
      "execution_count": null,
      "metadata": {
        "id": "62vdAThuK46j",
        "outputId": "fd5f3882-2ffe-4f34-b5ef-b242b2534713",
        "colab": {
          "base_uri": "https://localhost:8080/",
          "height": 36
        }
      },
      "outputs": [
        {
          "output_type": "display_data",
          "data": {
            "text/plain": [
              "<IPython.core.display.HTML object>"
            ],
            "text/html": [
              "\n",
              "     <input type=\"file\" id=\"files-7b55492d-8550-49a6-a293-ed2d7f5707dd\" name=\"files[]\" multiple disabled\n",
              "        style=\"border:none\" />\n",
              "     <output id=\"result-7b55492d-8550-49a6-a293-ed2d7f5707dd\">\n",
              "      Upload widget is only available when the cell has been executed in the\n",
              "      current browser session. Please rerun this cell to enable.\n",
              "      </output>\n",
              "      <script>// Copyright 2017 Google LLC\n",
              "//\n",
              "// Licensed under the Apache License, Version 2.0 (the \"License\");\n",
              "// you may not use this file except in compliance with the License.\n",
              "// You may obtain a copy of the License at\n",
              "//\n",
              "//      http://www.apache.org/licenses/LICENSE-2.0\n",
              "//\n",
              "// Unless required by applicable law or agreed to in writing, software\n",
              "// distributed under the License is distributed on an \"AS IS\" BASIS,\n",
              "// WITHOUT WARRANTIES OR CONDITIONS OF ANY KIND, either express or implied.\n",
              "// See the License for the specific language governing permissions and\n",
              "// limitations under the License.\n",
              "\n",
              "/**\n",
              " * @fileoverview Helpers for google.colab Python module.\n",
              " */\n",
              "(function(scope) {\n",
              "function span(text, styleAttributes = {}) {\n",
              "  const element = document.createElement('span');\n",
              "  element.textContent = text;\n",
              "  for (const key of Object.keys(styleAttributes)) {\n",
              "    element.style[key] = styleAttributes[key];\n",
              "  }\n",
              "  return element;\n",
              "}\n",
              "\n",
              "// Max number of bytes which will be uploaded at a time.\n",
              "const MAX_PAYLOAD_SIZE = 100 * 1024;\n",
              "\n",
              "function _uploadFiles(inputId, outputId) {\n",
              "  const steps = uploadFilesStep(inputId, outputId);\n",
              "  const outputElement = document.getElementById(outputId);\n",
              "  // Cache steps on the outputElement to make it available for the next call\n",
              "  // to uploadFilesContinue from Python.\n",
              "  outputElement.steps = steps;\n",
              "\n",
              "  return _uploadFilesContinue(outputId);\n",
              "}\n",
              "\n",
              "// This is roughly an async generator (not supported in the browser yet),\n",
              "// where there are multiple asynchronous steps and the Python side is going\n",
              "// to poll for completion of each step.\n",
              "// This uses a Promise to block the python side on completion of each step,\n",
              "// then passes the result of the previous step as the input to the next step.\n",
              "function _uploadFilesContinue(outputId) {\n",
              "  const outputElement = document.getElementById(outputId);\n",
              "  const steps = outputElement.steps;\n",
              "\n",
              "  const next = steps.next(outputElement.lastPromiseValue);\n",
              "  return Promise.resolve(next.value.promise).then((value) => {\n",
              "    // Cache the last promise value to make it available to the next\n",
              "    // step of the generator.\n",
              "    outputElement.lastPromiseValue = value;\n",
              "    return next.value.response;\n",
              "  });\n",
              "}\n",
              "\n",
              "/**\n",
              " * Generator function which is called between each async step of the upload\n",
              " * process.\n",
              " * @param {string} inputId Element ID of the input file picker element.\n",
              " * @param {string} outputId Element ID of the output display.\n",
              " * @return {!Iterable<!Object>} Iterable of next steps.\n",
              " */\n",
              "function* uploadFilesStep(inputId, outputId) {\n",
              "  const inputElement = document.getElementById(inputId);\n",
              "  inputElement.disabled = false;\n",
              "\n",
              "  const outputElement = document.getElementById(outputId);\n",
              "  outputElement.innerHTML = '';\n",
              "\n",
              "  const pickedPromise = new Promise((resolve) => {\n",
              "    inputElement.addEventListener('change', (e) => {\n",
              "      resolve(e.target.files);\n",
              "    });\n",
              "  });\n",
              "\n",
              "  const cancel = document.createElement('button');\n",
              "  inputElement.parentElement.appendChild(cancel);\n",
              "  cancel.textContent = 'Cancel upload';\n",
              "  const cancelPromise = new Promise((resolve) => {\n",
              "    cancel.onclick = () => {\n",
              "      resolve(null);\n",
              "    };\n",
              "  });\n",
              "\n",
              "  // Wait for the user to pick the files.\n",
              "  const files = yield {\n",
              "    promise: Promise.race([pickedPromise, cancelPromise]),\n",
              "    response: {\n",
              "      action: 'starting',\n",
              "    }\n",
              "  };\n",
              "\n",
              "  cancel.remove();\n",
              "\n",
              "  // Disable the input element since further picks are not allowed.\n",
              "  inputElement.disabled = true;\n",
              "\n",
              "  if (!files) {\n",
              "    return {\n",
              "      response: {\n",
              "        action: 'complete',\n",
              "      }\n",
              "    };\n",
              "  }\n",
              "\n",
              "  for (const file of files) {\n",
              "    const li = document.createElement('li');\n",
              "    li.append(span(file.name, {fontWeight: 'bold'}));\n",
              "    li.append(span(\n",
              "        `(${file.type || 'n/a'}) - ${file.size} bytes, ` +\n",
              "        `last modified: ${\n",
              "            file.lastModifiedDate ? file.lastModifiedDate.toLocaleDateString() :\n",
              "                                    'n/a'} - `));\n",
              "    const percent = span('0% done');\n",
              "    li.appendChild(percent);\n",
              "\n",
              "    outputElement.appendChild(li);\n",
              "\n",
              "    const fileDataPromise = new Promise((resolve) => {\n",
              "      const reader = new FileReader();\n",
              "      reader.onload = (e) => {\n",
              "        resolve(e.target.result);\n",
              "      };\n",
              "      reader.readAsArrayBuffer(file);\n",
              "    });\n",
              "    // Wait for the data to be ready.\n",
              "    let fileData = yield {\n",
              "      promise: fileDataPromise,\n",
              "      response: {\n",
              "        action: 'continue',\n",
              "      }\n",
              "    };\n",
              "\n",
              "    // Use a chunked sending to avoid message size limits. See b/62115660.\n",
              "    let position = 0;\n",
              "    do {\n",
              "      const length = Math.min(fileData.byteLength - position, MAX_PAYLOAD_SIZE);\n",
              "      const chunk = new Uint8Array(fileData, position, length);\n",
              "      position += length;\n",
              "\n",
              "      const base64 = btoa(String.fromCharCode.apply(null, chunk));\n",
              "      yield {\n",
              "        response: {\n",
              "          action: 'append',\n",
              "          file: file.name,\n",
              "          data: base64,\n",
              "        },\n",
              "      };\n",
              "\n",
              "      let percentDone = fileData.byteLength === 0 ?\n",
              "          100 :\n",
              "          Math.round((position / fileData.byteLength) * 100);\n",
              "      percent.textContent = `${percentDone}% done`;\n",
              "\n",
              "    } while (position < fileData.byteLength);\n",
              "  }\n",
              "\n",
              "  // All done.\n",
              "  yield {\n",
              "    response: {\n",
              "      action: 'complete',\n",
              "    }\n",
              "  };\n",
              "}\n",
              "\n",
              "scope.google = scope.google || {};\n",
              "scope.google.colab = scope.google.colab || {};\n",
              "scope.google.colab._files = {\n",
              "  _uploadFiles,\n",
              "  _uploadFilesContinue,\n",
              "};\n",
              "})(self);\n",
              "</script> "
            ]
          },
          "metadata": {}
        }
      ],
      "source": [
        "from google.colab import files\n",
        "uploaded = files.upload()"
      ]
    },
    {
      "cell_type": "markdown",
      "source": [
        "| Coluna      | Significado                                                                                       |\n",
        "| ----------- | ------------------------------------------------------------------------------------------------- |\n",
        "| **CRIM**    | Taxa de criminalidade por cidade (per capita)                                                     |\n",
        "| **ZN**      | Proporção de terrenos residenciais de mais de 25.000 pés²                                         |\n",
        "| **INDUS**   | Proporção de hectares de área não residencial (comercial, industrial) por cidade                  |\n",
        "| **CHAS**    | Dummy (0 ou 1) se a casa está próximo ao rio Charles (1 = sim)                                    |\n",
        "| **NOX**     | Concentração de óxidos nítricos (poluição do ar)                                                  |\n",
        "| **RM**      | Número médio de quartos por residência                                                            |\n",
        "| **AGE**     | Proporção de unidades ocupadas pelos proprietários construídas antes de 1940                      |\n",
        "| **DIS**     | Distância ponderada para cinco centros de emprego em Boston                                       |\n",
        "| **RAD**     | Índice de acessibilidade a rodovias radiais                                                       |\n",
        "| **TAX**     | Taxa de imposto predial por \\$10.000                                                              |\n",
        "| **PTRATIO** | Proporção aluno-professor por cidade                                                              |\n",
        "| **B**       | Proporção de população negra por cidade *(B = 1000(Bk − 0.63)², onde Bk é a proporção de negros)* |\n",
        "| **LSTAT**   | Percentual da população de baixa renda                                                            |\n",
        "| **MEDV**    | Valor médio das casas ocupadas pelos proprietários (em \\$1.000)                                   |\n"
      ],
      "metadata": {
        "id": "SCu4r1CWotpA"
      }
    },
    {
      "cell_type": "code",
      "source": [
        "import numpy as np\n",
        "import pandas as pd\n",
        "import matplotlib.pyplot as plt\n",
        "import seaborn as sns\n",
        "\n",
        "column_names = ['CRIM', 'ZN', 'INDUS', 'CHAS', 'NOX', 'RM', 'AGE', 'DIS', 'RAD', 'TAX', 'PTRATIO', 'B', 'LSTAT', 'MEDV']\n",
        "df = pd.read_csv('housing.csv', header=None, delimiter=r\"\\s+\", names=column_names)\n",
        "df.head()"
      ],
      "metadata": {
        "id": "6eVDMqbgK-Zg"
      },
      "execution_count": null,
      "outputs": []
    },
    {
      "cell_type": "code",
      "source": [
        "print(df.describe())"
      ],
      "metadata": {
        "id": "B33f5zGWW8Ag"
      },
      "execution_count": null,
      "outputs": []
    },
    {
      "cell_type": "code",
      "source": [
        "from scipy import stats\n",
        "\n",
        "fig, axs = plt.subplots(ncols = 7, nrows = 2, figsize = (20,10))\n",
        "index = 0\n",
        "axs = axs.flatten()\n",
        "for k, v in df.items():\n",
        "  sns.boxplot(y = k, data = df, ax = axs[index])\n",
        "  index += 1\n",
        "plt.tight_layout(pad = 0.4, w_pad = 0.5, h_pad = 5.0)"
      ],
      "metadata": {
        "id": "St39yiQUXdGw"
      },
      "execution_count": null,
      "outputs": []
    },
    {
      "cell_type": "code",
      "source": [
        "for k, v in df.items():\n",
        "  q1 = v.quantile(0.25)\n",
        "  q3 = v.quantile(0.75)\n",
        "  irq = q3 - q1\n",
        "  v_col = v[(v <= q1 - 1.5 * irq) | (v >= q3 + 1.5 * irq)]\n",
        "  perc = np.shape(v_col)[0] * 100.0 / np.shape(df)[0]\n",
        "  print(\"Column %s outliers = %.2f%%\" % (k, perc))"
      ],
      "metadata": {
        "id": "mrqVla_lZLve"
      },
      "execution_count": null,
      "outputs": []
    },
    {
      "cell_type": "code",
      "source": [
        "df = df[~(df['MEDV'] >= 50.0)]\n",
        "print(np.shape(df))"
      ],
      "metadata": {
        "id": "CWnsVui9aWvc"
      },
      "execution_count": null,
      "outputs": []
    },
    {
      "cell_type": "code",
      "source": [
        "fig, axs = plt.subplots(ncols = 7, nrows = 2 , figsize = (20,10))\n",
        "index = 0\n",
        "axs = axs.flatten()\n",
        "for k, v in df.items():\n",
        "  sns.histplot(v, ax = axs[index])\n",
        "  index += 1\n",
        "plt.tight_layout(pad = 0.4, w_pad = 0.5, h_pad = 5.0)"
      ],
      "metadata": {
        "id": "OxVDHA6ba7wG"
      },
      "execution_count": null,
      "outputs": []
    },
    {
      "cell_type": "code",
      "source": [
        "plt.figure(figsize =(20, 10))\n",
        "sns.heatmap(df.corr().abs(), annot = True)"
      ],
      "metadata": {
        "id": "_ilhXu1zoF7H"
      },
      "execution_count": null,
      "outputs": []
    },
    {
      "cell_type": "code",
      "source": [
        "from sklearn import preprocessing\n",
        "\n",
        "min_max_scaler = preprocessing.MinMaxScaler()\n",
        "colors = ['red', 'blue', 'green', 'orange', 'purple', 'brown', 'pink', 'gray']\n",
        "column_sels = ['LSTAT', 'INDUS', 'NOX', 'PTRATIO', 'RM', 'TAX', 'DIS', 'AGE']\n",
        "x = df.loc[:, column_sels]\n",
        "y = df['MEDV']\n",
        "x = pd.DataFrame(data = min_max_scaler.fit_transform(x), columns = column_sels)\n",
        "fig, axs = plt.subplots(ncols = 4, nrows = 2, figsize = (20, 10))\n",
        "index = 0\n",
        "axs = axs.flatten()\n",
        "for i, k in enumerate(column_sels):\n",
        "  sns.regplot(y = y, x = x[k], ax = axs[i], color = colors[i])\n",
        "\n",
        "plt.tight_layout(pad = 0.4, w_pad = 0.5, h_pad = 5.0)\n"
      ],
      "metadata": {
        "id": "8kZQZvGbo4lm"
      },
      "execution_count": null,
      "outputs": []
    },
    {
      "cell_type": "code",
      "source": [
        "y =  np.log1p(y)\n",
        "for col in x.columns:\n",
        "  if np.abs(x[col].skew()) > 0.3:\n",
        "    x[col] = np.log1p(x[col])"
      ],
      "metadata": {
        "id": "lAb0tbmZqvdW"
      },
      "execution_count": null,
      "outputs": []
    },
    {
      "cell_type": "code",
      "source": [
        "from sklearn import datasets, linear_model\n",
        "from sklearn.model_selection import cross_val_score\n",
        "from sklearn import preprocessing\n",
        "\n",
        "from sklearn.model_selection import KFold\n",
        "l_regression = linear_model.LinearRegression()\n",
        "kf = KFold(n_splits = 10, shuffle = True)\n",
        "min_max_scaler = preprocessing.MinMaxScaler()\n",
        "x_scaled = min_max_scaler.fit_transform(x)\n",
        "\n",
        "scores = cross_val_score(l_regression, x_scaled, y, scoring = 'neg_mean_squared_error', cv = kf, n_jobs = -1)\n",
        "print(\"MSE: %0.2f (+/- %0.2f)\" % (scores.mean(), scores.std()))\n",
        "\n",
        "scores_map = {}\n",
        "scores_map['Linear Regression'] = scores\n",
        "l_ridge = linear_model.Ridge()\n",
        "scores  = cross_val_score(l_ridge, x_scaled, y, scoring = 'neg_mean_squared_error', cv = kf, n_jobs = -1)\n",
        "print(\"MSE: %0.2f (+/- %0.2f)\" % (scores.mean(), scores.std()))\n",
        "\n",
        "\n",
        "from sklearn.pipeline import make_pipeline\n",
        "from sklearn.preprocessing import PolynomialFeatures\n",
        "\n",
        "model = make_pipeline(PolynomialFeatures(degree = 3), linear_model.Ridge())\n",
        "scores = cross_val_score(model, x_scaled, y, scoring = 'neg_mean_squared_error', cv = kf)\n",
        "scores_map['PolyRidge'] = scores\n",
        "print(\"MSE: %0.2f (+/- %0.2f)\" % (scores.mean(), scores.std()))"
      ],
      "metadata": {
        "id": "uCxrq1fsrRLI"
      },
      "execution_count": null,
      "outputs": []
    },
    {
      "cell_type": "code",
      "source": [
        "from sklearn.svm import SVR\n",
        "from sklearn.model_selection import GridSearchCV\n",
        "from sklearn.pipeline import make_pipeline\n",
        "from sklearn.preprocessing import PolynomialFeatures\n",
        "\n",
        "svb_rbf = SVR(kernel = 'rbf', C = 1e3, gamma = 0.1)\n",
        "scores = cross_val_score(svb_rbf, x_scaled, y, scoring = 'neg_mean_squared_error', cv = kf, n_jobs = -1)\n",
        "scores_map['SVR'] = scores\n",
        "print(\"MSE: %0.2f (+/- %0.2f)\" % (scores.mean(), scores.std()))"
      ],
      "metadata": {
        "id": "9ahs7vsRv3iL"
      },
      "execution_count": null,
      "outputs": []
    },
    {
      "cell_type": "code",
      "source": [
        "from sklearn.tree import DecisionTreeRegressor\n",
        "\n",
        "desc_tr = DecisionTreeRegressor(max_depth=5)\n",
        "\n",
        "scores = cross_val_score(desc_tr, x_scaled, y, cv=kf, scoring='neg_mean_squared_error')\n",
        "scores_map['DecisionTreeRegressor'] = scores\n",
        "print(\"MSE: %0.2f (+/- %0.2f)\" % (scores.mean(), scores.std()))"
      ],
      "metadata": {
        "id": "BFhml67exSPx"
      },
      "execution_count": null,
      "outputs": []
    },
    {
      "cell_type": "code",
      "source": [
        "from sklearn.neighbors import KNeighborsRegressor\n",
        "\n",
        "knn = KNeighborsRegressor(n_neighbors=7)\n",
        "scores = cross_val_score(knn, x_scaled, y, cv=kf, scoring='neg_mean_squared_error')\n",
        "scores_map['KNeighborsRegressor'] = scores\n",
        "\n",
        "print(\"KNN Accuracy: %0.2f (+/- %0.2f)\" % (scores.mean(), scores.std()))"
      ],
      "metadata": {
        "id": "7y3hvJjTxgMB"
      },
      "execution_count": null,
      "outputs": []
    },
    {
      "cell_type": "code",
      "source": [
        "from sklearn.ensemble import GradientBoostingRegressor\n",
        "\n",
        "gbr = GradientBoostingRegressor(alpha=0.9,learning_rate=0.05, max_depth=2, min_samples_leaf=5, min_samples_split=2, n_estimators=100, random_state=30)\n",
        "\n",
        "scores = cross_val_score(gbr, x_scaled, y, cv=kf, scoring='neg_mean_squared_error')\n",
        "scores_map['GradientBoostingRegressor'] = scores\n",
        "print(\"MSE: %0.2f (+/- %0.2f)\" % (scores.mean(), scores.std()))"
      ],
      "metadata": {
        "id": "qs8kcNxrxkQH"
      },
      "execution_count": null,
      "outputs": []
    },
    {
      "cell_type": "code",
      "source": [
        "plt.figure(figsize = (20, 10))\n",
        "scores_map = pd.DataFrame(scores_map)\n",
        "sns.boxplot(data = scores_map, orient = 'h', palette = 'Set2')\n",
        "plt.xlabel('MSE')"
      ],
      "metadata": {
        "id": "OH6QvgzzxrgP"
      },
      "execution_count": null,
      "outputs": []
    }
  ]
}